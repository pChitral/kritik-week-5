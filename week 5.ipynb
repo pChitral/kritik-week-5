{
 "cells": [
  {
   "cell_type": "markdown",
   "metadata": {},
   "source": [
    "<span style=\"color:#3498DB ; font-family: Lato, Helvetica, sans-serif; font-size:1.4em;\">\n",
    "\n",
    "# Assignment 5: Covers Week 5, 6, 7\n"
   ]
  },
  {
   "cell_type": "markdown",
   "metadata": {},
   "source": [
    "1.  What is a lambda function and how is it used?\n",
    "\n",
    "- Lambda function is a nameless function which can be defined without even making use of `def`, which is a keyword that is most frequently used to define a function.\n",
    "- Interestingly, this anonymous function doesn't even demand to make use of `return` keyword by literally returning the ouput without the use of `return`.\n",
    "- Additionally, it is analogous to the callback functions that are heavily used while working in JavaScript.\n",
    "- Although all the lambda functions can be callback functions, not all callback functions can be lambda.\n",
    "- One drawback of lambda function is that it can't have more than one expression despite of not having any limit on the number of input arguments.\n",
    "- Lambda functions are stored in a variable.\n",
    "- It is used by passing it as an input argument to another function.\n",
    "- More often than not this is used with `map`, `filter`, `sort`.\n",
    "- Following code demonstrates the syntax and use of the lambda function.\n"
   ]
  },
  {
   "cell_type": "code",
   "execution_count": 204,
   "metadata": {},
   "outputs": [
    {
     "data": {
      "text/plain": [
       "6"
      ]
     },
     "execution_count": 204,
     "metadata": {},
     "output_type": "execute_result"
    }
   ],
   "source": [
    "# Here a,b are the input arguments to our lambda function. Anything and everything that comes after the \":\" is returned.\n",
    "# lamda_add is where our function is stored and it is this variable name that we'll use later in our code to pass input arguments to.\n",
    "\n",
    "def lambda_add(a, b): return a + b\n",
    "\n",
    "\n",
    "# Calling our lambda function by the name which points to the function definition.\n",
    "lambda_add(2, 4)\n"
   ]
  },
  {
   "cell_type": "markdown",
   "metadata": {},
   "source": [
    "2.  How is a lambda function used with `min` and `max`? Give an example.\n",
    "\n",
    "- Before even talking about how lambda function is used with `min` and `max`, it is very important to know that both, `min` and `max`, come with an optional input argument `key`, which allows us to customize the way in which we wish to filter things.\n",
    "- It is exactly to this argument that we pass in our lambda function to get more control over the filtering and not simply do it in the default way which is rather jejune.\n",
    "- Thus, lambda function is used as an input argument by passing it to the `key` in both of our functions `min` and `max`.\n",
    "- Following example accurately demonstrates how a lambda function used with `min` and `max`\n"
   ]
  },
  {
   "cell_type": "code",
   "execution_count": 205,
   "metadata": {},
   "outputs": [
    {
     "name": "stdout",
     "output_type": "stream",
     "text": [
      " Name with least number of alphabets is 'Ram'.\n",
      " Name with maximum number of alphabets is 'Raghunandan'.\n"
     ]
    }
   ],
   "source": [
    "# Here we've got a list of names\n",
    "names = [\"Ram\", \"Sham\", \"Raghunandan\", \"Krishna\"]\n",
    "\n",
    "# With the help of lambda function we can find the name in our list with least number of aplhabets.\n",
    "print(\n",
    "    f\" Name with least number of alphabets is '{min(names, key=lambda name: len(name))}'.\")\n",
    "\n",
    "# With the help of lambda function we can find the name in our list with maximum number of aplhabets.\n",
    "print(\n",
    "    f\" Name with maximum number of alphabets is '{max(names, key=lambda name: len(name))}'.\")\n"
   ]
  },
  {
   "cell_type": "markdown",
   "metadata": {},
   "source": [
    "3.  What is the `map` function and how is it used? What is the `filter` function and how is it used? What is the difference between them? Give one example of each function to clarify their usage.\n",
    "\n",
    "- Without explicitly utilizing a for loop, we may process and alter every item in an iterable using Python's built-in `map()` function.\n",
    "- When we need to do something with each item in an iterable and get the result as a new iterable, we may use the `map()` function.\n",
    "- It is very important to konw that the `map` function will return an object which is an generator that produces values only once.\n",
    "- This means that we cannot use it as many times as we want in the latter section of our code without having to worry about it getting exhausted.\n",
    "- In any case if we wish to use it later in our code, one workaround is to simply force our generator object in a list by making it a list that we can use anytime and any number of times in our latter section of the code.\n",
    "- Althought even filter is applied to every element in the list or any of our iterable, it is used for a very different reason.\n",
    "- In fact, it is used to \"filter\" out things from our iterable.\n",
    "- Furthermore, it is able to \"filter\" out things by paying heed to a condition that we've specified and if and only if that condition is met that item is returned.\n",
    "- This means that it uses function, which returns either true or false, to test the truthiness of each value in the sequence and returns a filtered list.\n",
    "- Difference between them is simply that `map` is used when we wish to update every item in our iterable. On the other hand, `filter` is used when we wish to filter out things from our iterable.\n",
    "- Another difference is that the length of the object returned by map has to equal to the length of the iterable it was iterating through.\n",
    "- However, in case of filter, more often than not the length is always less than the length of the iterable it was iterating through.\n",
    "- Following is an example of each function to clarify their usage.\n"
   ]
  },
  {
   "cell_type": "code",
   "execution_count": 206,
   "metadata": {},
   "outputs": [
    {
     "name": "stdout",
     "output_type": "stream",
     "text": [
      "The updated list with price in INR is ['₹1040', '₹1200', '₹1600', '₹8000', '₹19920'].\n",
      "The updated list with price above $30 is [100, 249].\n"
     ]
    }
   ],
   "source": [
    "# Following is the list of prices in usd that I wish to convert in INR.\n",
    "price_usd = [13, 15, 20, 100, 249]\n",
    "\n",
    "# Defining our lambda function that converts the price from usd to inr\n",
    "\n",
    "\n",
    "def lambda_usd_to_inr(usd): return f\"₹{usd * 80}\"\n",
    "\n",
    "\n",
    "# Making use of the map function by passing in our desired lambda function which will run for every item in our list \"price_usd\"\n",
    "price_inr = list(map(lambda_usd_to_inr, price_usd))\n",
    "\n",
    "print(f\"The updated list with price in INR is {price_inr}.\")\n",
    "\n",
    "# Defining our lambda function to filter prices that are above $30.\n",
    "\n",
    "\n",
    "def lambda_usd_above_30(usd): return usd > 30\n",
    "\n",
    "\n",
    "# Making use of filter function by by passing in our desired lambda function which will run for every item in our list \"price_usd\"\n",
    "usd_above_30 = list(filter(lambda_usd_above_30, price_usd))\n",
    "\n",
    "print(f\"The updated list with price above $30 is {usd_above_30}.\")\n"
   ]
  },
  {
   "cell_type": "markdown",
   "metadata": {},
   "source": [
    "4.  The `sorted` function takes an optional `key` input argument. What is its use? Give a meaningful example to illustrates its usage.\n",
    "\n",
    "- It is exactly to this optional `key` argument that we pass in our lambda function to get more control over the sorting and not simply do it in the default way which is rather jejune.\n",
    "- This optional `key` argument helps us go that extra mile by letting us dictate our `sorted` function in which way we want to sort things out.\n",
    "- Following is a meaningful example to illustrates its usage.\n"
   ]
  },
  {
   "cell_type": "code",
   "execution_count": 207,
   "metadata": {},
   "outputs": [
    {
     "data": {
      "text/plain": [
       "[['Joshua Cunningham', 18, 'angela34@steele.org'],\n",
       " ['Jamie Bradford', 18, 'anthonyhartman@gmail.com'],\n",
       " ['Mr. Jamie Lyons', 19, 'morganflores@yahoo.com'],\n",
       " ['Laura Grimes', 20, 'joelmontes@yahoo.com'],\n",
       " ['Dawn Walker', 22, 'thompsonnicole@gmail.com'],\n",
       " ['Michael Mitchell', 26, 'albert12@wright-hodges.com'],\n",
       " ['Alexa Wright', 26, 'kevinclark@yahoo.com'],\n",
       " ['Sergio Howard', 27, 'ann65@dunn.biz'],\n",
       " ['Tabitha Tyler', 30, 'silvatimothy@boone-jones.com'],\n",
       " ['Stephanie Robertson', 33, 'kentmichael@graves.com']]"
      ]
     },
     "execution_count": 207,
     "metadata": {},
     "output_type": "execute_result"
    }
   ],
   "source": [
    "# Following list holds lists for 10 students with name, age, email.\n",
    "student_data = [['Mr. Jamie Lyons', 19, 'morganflores@yahoo.com'],\n",
    "                ['Laura Grimes', 20, 'joelmontes@yahoo.com'],\n",
    "                ['Stephanie Robertson', 33, 'kentmichael@graves.com'],\n",
    "                ['Michael Mitchell', 26, 'albert12@wright-hodges.com'],\n",
    "                ['Joshua Cunningham', 18, 'angela34@steele.org'],\n",
    "                ['Alexa Wright', 26, 'kevinclark@yahoo.com'],\n",
    "                ['Tabitha Tyler', 30, 'silvatimothy@boone-jones.com'],\n",
    "                ['Dawn Walker', 22, 'thompsonnicole@gmail.com'],\n",
    "                ['Jamie Bradford', 18, 'anthonyhartman@gmail.com'],\n",
    "                ['Sergio Howard', 27, 'ann65@dunn.biz']]\n",
    "\n",
    "# Now I'll sort all the students with respect to their age making use of a lambda function by passing it in key argument which will indeed tell sorted to sort them with respect to the age.\n",
    "sorted(student_data, key=lambda student: student[1])\n"
   ]
  },
  {
   "cell_type": "markdown",
   "metadata": {},
   "source": [
    "5.  What is the purpose of `*args` in a function definition? What problem does it solve? Give a meaningful example to explain its usage.\n",
    "\n",
    "- `*args` plays a pivotal role when we are not sure or are unable to anticipate the exact number of input arguments that the user may enter.\n",
    "- Thus, in this case we make use of `*args` and help forestall our code from breaking just because the number of input arguments exceeded the anticipated number.\n",
    "- It solves the problem of variable number of input arguments that may be passed to our function.\n",
    "- In conclusion, `*args` give us the power to pass in as many number of non-named input arguments we want.\n",
    "- Following is a meaningful example to illustrates its usage.\n"
   ]
  },
  {
   "cell_type": "code",
   "execution_count": 208,
   "metadata": {},
   "outputs": [
    {
     "name": "stdout",
     "output_type": "stream",
     "text": [
      "Bob has an average of 18 for a total of 5 assignments!\n"
     ]
    }
   ],
   "source": [
    "def student_name_and_marks(name, *marks):\n",
    "    print(f\"{name} has an average of {round(sum(marks) / len(marks))} for a total of {len(marks)} assignments!\")\n",
    "\n",
    "\n",
    "student_name_and_marks(\"Bob\", 20, 18, 19, 17, 16)\n"
   ]
  },
  {
   "cell_type": "markdown",
   "metadata": {},
   "source": [
    "6.  What is the purpose of `*kwargs` in a function definition? What problem does it solve? Give a meaningful example to explain its usage.\n",
    "\n",
    "- The purpose of `*kwargs` in a function definition is to put all the named input arguments in a dictionary called keyword arguments.\n",
    "- `*kwargs` plays a pivotal role when we are not sure or are unable to anticipate the exact number of named input arguments that the user may enter.\n",
    "- Thus, in this case we make use of `*kwargs` and help forestall our code from breaking just because the number of input arguments exceeded the anticipated number.\n",
    "- It solves the problem of variable number of named input arguments that may be passed to our function.\n",
    "- In conclusion, `*kwargs` give us the power to pass in as many number of named input arguments we want.\n",
    "- Following is a meaningful example to illustrates its usage.\n"
   ]
  },
  {
   "cell_type": "code",
   "execution_count": 209,
   "metadata": {},
   "outputs": [
    {
     "name": "stdout",
     "output_type": "stream",
     "text": [
      "This is Bob's performance on 3 assignments that he took {'assignment_1': 20, 'assignment_2': 16, 'assignment_3': 18}\n"
     ]
    }
   ],
   "source": [
    "def student_name_and_marks(name, **marks):\n",
    "    print(\n",
    "        f\"This is {name}'s performance on {len(marks)} assignments that he took {marks}\")\n",
    "\n",
    "\n",
    "student_name_and_marks(\"Bob\", assignment_1=20,\n",
    "                       assignment_2=16, assignment_3=18)\n"
   ]
  },
  {
   "cell_type": "markdown",
   "metadata": {},
   "source": [
    "7.  What is the purpose of the `else` in a for loop? How is it used? Give a meaningful example to illustrate its usage.\n",
    "\n",
    "- We all are familiar with the if else blocks in python.\n",
    "- However, python offers a very interesting feature by allowing us to levereage else along with for and while.\n",
    "- Analogous to if else even while else is possible and for else too.\n",
    "- The else block is only exectued when all the iterations in the for block complete sucessfully without exitting.\n",
    "- If in any case the for loop doesn't reach its completion, the else block isn't executed.\n",
    "- It was a very niche implemention and following is a meaningful example to illustrate its usage.\n"
   ]
  },
  {
   "cell_type": "code",
   "execution_count": 210,
   "metadata": {},
   "outputs": [
    {
     "name": "stdout",
     "output_type": "stream",
     "text": [
      "All the names in our list: ['ram', 'sham', 'atharva', 'laxmi'], have a common character ['a'].\n"
     ]
    }
   ],
   "source": [
    "# Defining our names list\n",
    "names = [\"ram\", \"sham\", \"atharva\", \"laxmi\"]\n",
    "\n",
    "intersection_char = []\n",
    "\n",
    "# Finding intersection of any aplhabets in all the names in our list.\n",
    "for char in names[0]:\n",
    "    for name in names[1:]:\n",
    "        if char not in name:\n",
    "            break\n",
    "    else:\n",
    "\n",
    "        if char not in intersection_char:\n",
    "            intersection_char.append(char)\n",
    "\n",
    "print(\n",
    "    f\"All the names in our list: {names}, have a common character {intersection_char}.\")\n"
   ]
  },
  {
   "cell_type": "markdown",
   "metadata": {},
   "source": [
    "8.  What is a difference between an iterator and a generator?\n",
    "\n",
    "- Anything we can loop over is an iterable.\n",
    "- Iterator is nothing if not a class that defines the methods `iter` and `next`.\n",
    "- When iterating through iterable objects like lists, tuples, sets, etc., an iterator is an object with a countable number of values.\n",
    "- We may call the object again to create values that we can iterate through after these methods have been defined and we don't need to worry about the exhaustion of the object as it will be loaded in the memory for future use.\n",
    "- On the other hand, generators are iterable as well, but instead of returning output values, they employ the keyword `yield` in their functions.\n",
    "- These values are one-time values as a result of using `yield` allowing us to iterate over them just once.\n",
    "- We must use the function once again to obtain the values in the future since unlike iterator.\n",
    "- In other words, generator won't keep the complete sequence in memory, it will provide a series of data in an iterable format that we must iterate through in order to use the data.\n"
   ]
  },
  {
   "cell_type": "markdown",
   "metadata": {},
   "source": [
    "9.  What is the difference between deep copy and shallow copy? When does it matter? How are each accomplished?\n",
    "\n",
    "- A very important fact that we need to know about the assignment operator in python is that it doesn't copy the items, values, or anything that is on its right but simply passes the pointer of that variable, object or anything which sits to its right.\n",
    "- This means that if I have `a = 2` and then I do `b = a`, the value of a won't be copied or duplicated in b, but b will simply point to the value that a has. In other words, b simply shares the reference of the original object `a` in our case.\n",
    "- Thus any change we make to this supposedly \"copy\" has the potential to change the original value even if we think that we are just changing the value of the \"copy\".\n",
    "- A classic example of when this matters would be when we are working especially with lists.\n"
   ]
  },
  {
   "cell_type": "code",
   "execution_count": 211,
   "metadata": {},
   "outputs": [
    {
     "name": "stdout",
     "output_type": "stream",
     "text": [
      "[1, 2, 3, 4, 5]\n"
     ]
    }
   ],
   "source": [
    "a = [1, 2, 3, 4]\n",
    "b = a  # creating \"copy\" that we think won't change the value of a\n",
    "b.append(5)  # we think that we are appending value to our \"copy\" and we assume that it won't change the orignal value of a\n",
    "print(a)  # Oops! look what just happened\n"
   ]
  },
  {
   "cell_type": "markdown",
   "metadata": {},
   "source": [
    "- Thus, this example showed us how assignment operator works and the risks that we run into.\n",
    "- One may argue that writing `b = a.copy()` may solve the problem in this case.\n",
    "- Indeed it does but it breaks when we append or change something in a list sitting inside our main list.\n",
    "- This proves us that `.copy()` just creates a shallow copy.\n",
    "- The only way to fix this is by creating a deep copy of our a and then storing this deep copy in our b like follows\n",
    "- To summarise whenever we wish to make some changes exclusively to the copy of the list without actually touching the original list, creating a deep copy would be nothing if not prudent.\n"
   ]
  },
  {
   "cell_type": "code",
   "execution_count": 212,
   "metadata": {},
   "outputs": [],
   "source": [
    "import copy\n",
    "b = copy.deepcopy(a)\n"
   ]
  },
  {
   "cell_type": "markdown",
   "metadata": {},
   "source": [
    "10. What type of values can be a key in a dictionary? Explain how this makes sense.\n",
    "\n",
    "- Any immutable datatype is allowed to be a key in a dictionary.\n",
    "- It is very important for our key to be of an immutable datatype, because we don't want our key to change.\n",
    "- For example, if we assume that we are allowed to have mutable datatypes as the key, this would create a lot of problems in following way.\n",
    "- If you change the key, the code that was written using the previous key would break as there that key no longer exits and this would not allow us to access the value sitting at that key even if it is there only because the name of the key has been updated.\n",
    "- Thus, in order to mainting integrity in our data we make sure that the keys are not allowed to change.\n",
    "- In conclusion, we can use a dictionary key that is an `integer`, `float`, `string`, `vanilla tuple` or `Boolean`. However, because dictionaries and lists are mutable, neither one nor the other may function as a dictionary key and its use is strictly prohibited.\n",
    "- It makes sense because firstly using duplicate keys is just not allowed in a dictionary.\n",
    "- Seconldly, the enire point for using a dictionary is to map values to the respective keys which are unique.\n",
    "- Thus, its preposterous to have same key map to different values.\n"
   ]
  },
  {
   "cell_type": "markdown",
   "metadata": {},
   "source": [
    "11. What is the purpose of `def __init__(self)` function?\n",
    "\n",
    "- This method runs automatically when we create a new instance of a class.\n",
    "- `__init__(self)` can be thought of like a mother giving birth to a child with some default attributes, which can be accessed in the syntax like (name_of_the_child).(attribute).\n",
    "- Precisely, it runs before that newly created instance is returned and the job of this ` __init__` is to add attributes to this newly created object.\n",
    "- Although it is important to mention that this ` __init__` is not mandatory and we can indeed create a class without having it in our code provided that it has a parent class\n",
    "- However, the general consensus is of creating it in order to keep everything clear about what attributes we will be dealing with, right from the onset itself.\n",
    "- It is important to mention that the name of the object that we set (the thing that sits to the left of our = ClassName()) will take the place of self inside our init and all the attributes will be assigned to the (name of the object).attribute\n",
    "- Thus,` __init__` eleminates our task of manually assigning attributes, everytime we create a new object of the class and helps us do it elegantly by simply passing it in to the class and writing a generalized code inside our ` __init__` in order to assign them everytime a new object gets created.\n"
   ]
  },
  {
   "cell_type": "markdown",
   "metadata": {},
   "source": [
    "12. What are `__str__(self)` and `__repr__(self)`? Which is called first?\n"
   ]
  },
  {
   "cell_type": "markdown",
   "metadata": {},
   "source": [
    "- The object's string representation is what `__str__(self)` function returns.\n",
    "- When the print() or str() functions are used on an object, this method is called.\n",
    "- The String object must be returned by this function.\n",
    "- The built-in object implementation, which actually internally calls the `__repr__()` method, is utilized if we don't implement the` __str__()` function for a class.\n",
    "- The object representation in string format is returned by the Python method `__repr__(self)`.\n",
    "- When the object's repr() function is invoked, this method is triggered.\n",
    "- If at all feasible, the text that is returned should be a legitimate Python expression that may be used to recreate the object.\n",
    "- `__str__` is called first and then `__repr__`\n"
   ]
  },
  {
   "cell_type": "markdown",
   "metadata": {},
   "source": [
    "13. What is inheritance? What is its main benefit?\n",
    "\n",
    "- Similar to a parent-child connection, inheritance operates on derived classes in relation to the initial class and this very idea of \"inhereting\" things from our parent class is called inheritance.\n",
    "- A \"Parent\" class is the source of all \"Child\" classes' inheritance.\n",
    "- We can construct classes using inheritance that are based upon preexisting classes, and these new classes can then inherit the properties and functions of their parent classes.\n",
    "- The main benefit of inheritance is that it encourages the reuse of code and lets us build a new class based on something that was already made in the past by eliminating the need to rewrite the same thing again and again for the new child class.\n",
    "- Another benefit is about adding things to a new class by simply building upon a pre-existing class from the past by expediting our process and reducing redundancies in our code.\n"
   ]
  },
  {
   "cell_type": "markdown",
   "metadata": {},
   "source": [
    "14. What is the purpose of `super()`?\n",
    "\n",
    "- The purpose of `super()` is to invoke parent class’s methods along with the attributes.\n",
    "- This helps eliminate the need to write the code for assiginig attributes, once again, for the new class that we are defining, by letting us inherit it from the parent class.\n",
    "- Not only we get readymade attributes from our parent class but also get to add new attributes to this child by writing it after `super()`'s line.\n",
    "- Moreover, we get to leverage all the methods sitting in our parent class on our child class without having to write it again for the child.\n"
   ]
  },
  {
   "cell_type": "markdown",
   "metadata": {},
   "source": [
    "15. What is polymorphism?\n",
    "\n",
    "- Polymorphism is the existence of numerous forms.\n",
    "- The usage of the same function name with various signatures for various types is referred to as polymorphism in programming.\n",
    "- Python uses the term \"polymorphism\" to describe an object's capacity to inhabit different forms.\n",
    "- In fact, the word \"polymorphism\" is a combination of two different words - poly meaning many, and morphs meaning shapes which accurately describes what it is.\n"
   ]
  },
  {
   "cell_type": "markdown",
   "metadata": {},
   "source": [
    "16. What is operator overloading? Give one example.\n",
    "\n",
    "- Operator overloading refers to embedding existing operational meaning with additional, broader connotations.\n",
    "- To combine several lists, join several strings, and add several integers, for instance, use the `+` operator.\n",
    "- It is possible since the `int` class and the `str` class have overloaded the `+` operator.\n",
    "- It is very interesting to see that the same built-in operator or function behaves differently for objects that belong to different classes; this is known as operator overloading.\n",
    "- In other words, we've overloaded our `+` operator for different data types and it exactly knows what to do when a specific data type comes into picture and this is exactly what we call as operator overloading.\n",
    "- Following example accurately demonstrates the idea of operator overloading.\n"
   ]
  },
  {
   "cell_type": "code",
   "execution_count": 213,
   "metadata": {},
   "outputs": [
    {
     "name": "stdout",
     "output_type": "stream",
     "text": [
      "student_2 has the maximum score!\n"
     ]
    }
   ],
   "source": [
    "# In this example, I've overloaded the greater than operator \">\" in order to find the student who has scored more compared to the other student.\n",
    "\n",
    "class Student:\n",
    "\n",
    "    def __init__(self, marks_1, marks_2):\n",
    "        self.marks_1 = marks_1\n",
    "        self.marks_2 = marks_2\n",
    "\n",
    "    def __gt__(self, other):\n",
    "        self_marks_sum = self.marks_1 + self.marks_2\n",
    "        other_marks_sum = other.marks_1 + other.marks_2\n",
    "\n",
    "        return True if self_marks_sum > other_marks_sum else False\n",
    "\n",
    "    def __str__(self):\n",
    "        return f'{self.marks_1}, {self.marks_2}'\n",
    "\n",
    "\n",
    "student_1 = Student(18, 19)\n",
    "student_2 = Student(19, 20)\n",
    "\n",
    "\n",
    "print(\"student_1 has the maximum score!\") if student_1 > student_2 else print(\n",
    "    \"student_2 has the maximum score!\")\n"
   ]
  },
  {
   "cell_type": "markdown",
   "metadata": {},
   "source": [
    "17. Explain the difference between class variable and instance variable? How are they accessed? Which variables can shared between objects and which cannot? Are class variables always shared between objects?\n",
    "\n",
    "- Class variable is a variable that is declared inside the class without the self.\n",
    "- This means that this very class variable will be common to all the instances that we might create in the future and will have the same value which the class variable holds.\n",
    "- Moreover, any changes made to our class variable will reflect in all the instances of that class.\n",
    "- In other words, any changes, deletions, updates made to the class variable will show up and reflect to each and every instance/object of that class and will remain consistent throughout.\n",
    "- To summarize, it wouldn't be wrong to put class variable in an analogy with the global variables, especially because of the scope of the class variable which is nothing if not global.\n",
    "- On the other hand, instance variable can be thought of something unique, something private about that very specific instance which was made and it is because of this very reason the value would be only accessed via that object of the class.\n",
    "- Any attempt to access the value via some other object would unfortunately throw an error if that attribute doesn't exist and if in case it does the value may not be the same as the intended one.\n",
    "- Class variables can be accessed in two ways. Firstly, by directly accessing them via the class name. Secondly, by accessing them via the object reference.\n",
    "- Class variables can be shared between objects but instance variables cannot be shared between objects.\n",
    "- Yes, indeed all the class variables are always shared between objects.\n"
   ]
  },
  {
   "cell_type": "markdown",
   "metadata": {},
   "source": [
    "18. What is the difference between class methods and static methods?\n",
    "\n",
    "- Class methods have access to the class variables or methods but static methods don't have access to the class variables or methods.\n"
   ]
  },
  {
   "cell_type": "markdown",
   "metadata": {},
   "source": [
    "19. What is the purpose of the self keyword in class method definition?\n",
    "\n",
    "- Self keyword plays a very pivotal role in class method definition by enabling us to represent the class instance.\n",
    "- We can access the class's attributes and methods with the help of self keyword.\n",
    "- The main puspose of the self keyword in class method definition is to connect the input parameters and the attributes.\n",
    "- Moreover, that we don't utilize the '@' syntax to refer to instance attributes, we leverage the self keyword instead.\n"
   ]
  },
  {
   "cell_type": "markdown",
   "metadata": {},
   "source": [
    "20. How do you create an iterable class? What are the three main ingredients? hint: iter, next, stopiteration. Be sure to explain each and their purpose. Explain with an example how a while loop can be used with iterator class.\n",
    "\n",
    "- Following example accurately demonstrates how an iterable class is created.\n"
   ]
  },
  {
   "cell_type": "code",
   "execution_count": 214,
   "metadata": {},
   "outputs": [],
   "source": [
    "class MyRange:\n",
    "\n",
    "    # Here we'll first initialize our newly created object with the limit attribute, which was passed in as an input argument.\n",
    "    def __init__(self, limit):\n",
    "        self.limit = limit\n",
    "\n",
    "    # Setting the value attribue 0 just to be consistent with python. Had it been matlab we would've set this value to 1 because the loops in matlab start from 1 unlike python.\n",
    "    def __iter__(self):\n",
    "        self.value = 0\n",
    "        return self\n",
    "\n",
    "    # This is the sauce.\n",
    "    def __next__(self):\n",
    "        if self.value < self.limit:\n",
    "            # We assign the value first and only after assigning it to the output, we increment the value.\n",
    "            output = self.value\n",
    "            # Had this increment been done before assigning it to the output, our 0 would've been skipped. Thus, it's very important to keep this after assigning the output.\n",
    "            self.value += 1\n",
    "            return output\n",
    "        else:\n",
    "            # Our code doesn't break when this exception is thrown, because it understands that the loop has been iterated sucessfully.\n",
    "            raise StopIteration\n"
   ]
  },
  {
   "cell_type": "markdown",
   "metadata": {},
   "source": [
    "- Following code explains with an example how a while loop can be used with our custom iterator class.\n"
   ]
  },
  {
   "cell_type": "code",
   "execution_count": 216,
   "metadata": {},
   "outputs": [
    {
     "name": "stdout",
     "output_type": "stream",
     "text": [
      "0\n",
      "1\n",
      "2\n",
      "3\n",
      "4\n"
     ]
    }
   ],
   "source": [
    "# creating the object named `custom_range` of the class `MyRange` by passing in 5 as the limit\n",
    "custom_range = MyRange(5)\n",
    "\n",
    "custom_range.__iter__()\n",
    "value = custom_range.__next__()\n",
    "while True:\n",
    "    print(value)\n",
    "    try:\n",
    "        # Calling __next__() method and assigining its output to value.\n",
    "        value = custom_range.__next__()\n",
    "    except:\n",
    "        # We come here and simply break from our while at the very step when we try to run __next__() after we've exhausted our limit.\n",
    "        break\n"
   ]
  }
 ],
 "metadata": {
  "kernelspec": {
   "display_name": "Python 3.9.6 64-bit",
   "language": "python",
   "name": "python3"
  },
  "language_info": {
   "codemirror_mode": {
    "name": "ipython",
    "version": 3
   },
   "file_extension": ".py",
   "mimetype": "text/x-python",
   "name": "python",
   "nbconvert_exporter": "python",
   "pygments_lexer": "ipython3",
   "version": "3.9.6"
  },
  "orig_nbformat": 4,
  "vscode": {
   "interpreter": {
    "hash": "31f2aee4e71d21fbe5cf8b01ff0e069b9275f58929596ceb00d14d90e3e16cd6"
   }
  }
 },
 "nbformat": 4,
 "nbformat_minor": 2
}
